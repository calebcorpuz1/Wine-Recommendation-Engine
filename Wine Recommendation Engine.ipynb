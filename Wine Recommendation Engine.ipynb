{
 "cells": [
  {
   "cell_type": "markdown",
   "metadata": {},
   "source": [
    "# Caleb Corpuz\n",
    "# DSC 630\n",
    "# Final Project Code"
   ]
  },
  {
   "cell_type": "code",
   "execution_count": 1,
   "metadata": {},
   "outputs": [],
   "source": [
    "# Code Reference https://github.com/RoaldSchuring/wine_recommender"
   ]
  },
  {
   "cell_type": "code",
   "execution_count": 2,
   "metadata": {},
   "outputs": [],
   "source": [
    "import pandas as pd\n",
    "import numpy as np\n",
    "import string\n",
    "from operator import itemgetter\n",
    "from collections import Counter, OrderedDict\n",
    "from gensim.models.phrases import Phrases, Phraser\n",
    "from gensim.models import Word2Vec\n",
    "from nltk.tokenize import word_tokenize, sent_tokenize\n",
    "from nltk.stem import SnowballStemmer\n",
    "from nltk.corpus import stopwords\n",
    "from sklearn.feature_extraction.text import TfidfVectorizer\n",
    "from sklearn.metrics.pairwise import cosine_similarity\n",
    "from sklearn.neighbors import NearestNeighbors\n",
    "from sklearn.preprocessing import LabelEncoder\n",
    "from scipy.spatial.distance import cosine\n",
    "from scipy.spatial.distance import euclidean\n",
    "from scipy.sparse import csr_matrix\n",
    "from matplotlib import pyplot as plt\n",
    "import nltk"
   ]
  },
  {
   "cell_type": "markdown",
   "metadata": {},
   "source": [
    "## EDA"
   ]
  },
  {
   "cell_type": "code",
   "execution_count": 4,
   "metadata": {},
   "outputs": [],
   "source": [
    "wine_dataframe = pd.read_csv('/Users/ccorpuz/Desktop/DSC Projects/Data/winemag-data-130k-v2.csv')"
   ]
  },
  {
   "cell_type": "code",
   "execution_count": 5,
   "metadata": {},
   "outputs": [
    {
     "data": {
      "text/html": [
       "<div>\n",
       "<style scoped>\n",
       "    .dataframe tbody tr th:only-of-type {\n",
       "        vertical-align: middle;\n",
       "    }\n",
       "\n",
       "    .dataframe tbody tr th {\n",
       "        vertical-align: top;\n",
       "    }\n",
       "\n",
       "    .dataframe thead th {\n",
       "        text-align: right;\n",
       "    }\n",
       "</style>\n",
       "<table border=\"1\" class=\"dataframe\">\n",
       "  <thead>\n",
       "    <tr style=\"text-align: right;\">\n",
       "      <th></th>\n",
       "      <th>Unnamed: 0</th>\n",
       "      <th>country</th>\n",
       "      <th>description</th>\n",
       "      <th>designation</th>\n",
       "      <th>points</th>\n",
       "      <th>price</th>\n",
       "      <th>province</th>\n",
       "      <th>region_1</th>\n",
       "      <th>region_2</th>\n",
       "      <th>taster_name</th>\n",
       "      <th>taster_twitter_handle</th>\n",
       "      <th>title</th>\n",
       "      <th>variety</th>\n",
       "      <th>winery</th>\n",
       "    </tr>\n",
       "  </thead>\n",
       "  <tbody>\n",
       "    <tr>\n",
       "      <th>0</th>\n",
       "      <td>0</td>\n",
       "      <td>Italy</td>\n",
       "      <td>Aromas include tropical fruit, broom, brimston...</td>\n",
       "      <td>Vulkà Bianco</td>\n",
       "      <td>87</td>\n",
       "      <td>NaN</td>\n",
       "      <td>Sicily &amp; Sardinia</td>\n",
       "      <td>Etna</td>\n",
       "      <td>NaN</td>\n",
       "      <td>Kerin O’Keefe</td>\n",
       "      <td>@kerinokeefe</td>\n",
       "      <td>Nicosia 2013 Vulkà Bianco  (Etna)</td>\n",
       "      <td>White Blend</td>\n",
       "      <td>Nicosia</td>\n",
       "    </tr>\n",
       "    <tr>\n",
       "      <th>1</th>\n",
       "      <td>1</td>\n",
       "      <td>Portugal</td>\n",
       "      <td>This is ripe and fruity, a wine that is smooth...</td>\n",
       "      <td>Avidagos</td>\n",
       "      <td>87</td>\n",
       "      <td>15.0</td>\n",
       "      <td>Douro</td>\n",
       "      <td>NaN</td>\n",
       "      <td>NaN</td>\n",
       "      <td>Roger Voss</td>\n",
       "      <td>@vossroger</td>\n",
       "      <td>Quinta dos Avidagos 2011 Avidagos Red (Douro)</td>\n",
       "      <td>Portuguese Red</td>\n",
       "      <td>Quinta dos Avidagos</td>\n",
       "    </tr>\n",
       "    <tr>\n",
       "      <th>2</th>\n",
       "      <td>2</td>\n",
       "      <td>US</td>\n",
       "      <td>Tart and snappy, the flavors of lime flesh and...</td>\n",
       "      <td>NaN</td>\n",
       "      <td>87</td>\n",
       "      <td>14.0</td>\n",
       "      <td>Oregon</td>\n",
       "      <td>Willamette Valley</td>\n",
       "      <td>Willamette Valley</td>\n",
       "      <td>Paul Gregutt</td>\n",
       "      <td>@paulgwine</td>\n",
       "      <td>Rainstorm 2013 Pinot Gris (Willamette Valley)</td>\n",
       "      <td>Pinot Gris</td>\n",
       "      <td>Rainstorm</td>\n",
       "    </tr>\n",
       "  </tbody>\n",
       "</table>\n",
       "</div>"
      ],
      "text/plain": [
       "   Unnamed: 0   country                                        description  \\\n",
       "0           0     Italy  Aromas include tropical fruit, broom, brimston...   \n",
       "1           1  Portugal  This is ripe and fruity, a wine that is smooth...   \n",
       "2           2        US  Tart and snappy, the flavors of lime flesh and...   \n",
       "\n",
       "    designation  points  price           province           region_1  \\\n",
       "0  Vulkà Bianco      87    NaN  Sicily & Sardinia               Etna   \n",
       "1      Avidagos      87   15.0              Douro                NaN   \n",
       "2           NaN      87   14.0             Oregon  Willamette Valley   \n",
       "\n",
       "            region_2    taster_name taster_twitter_handle  \\\n",
       "0                NaN  Kerin O’Keefe          @kerinokeefe   \n",
       "1                NaN     Roger Voss            @vossroger   \n",
       "2  Willamette Valley   Paul Gregutt           @paulgwine    \n",
       "\n",
       "                                           title         variety  \\\n",
       "0              Nicosia 2013 Vulkà Bianco  (Etna)     White Blend   \n",
       "1  Quinta dos Avidagos 2011 Avidagos Red (Douro)  Portuguese Red   \n",
       "2  Rainstorm 2013 Pinot Gris (Willamette Valley)      Pinot Gris   \n",
       "\n",
       "                winery  \n",
       "0              Nicosia  \n",
       "1  Quinta dos Avidagos  \n",
       "2            Rainstorm  "
      ]
     },
     "execution_count": 5,
     "metadata": {},
     "output_type": "execute_result"
    }
   ],
   "source": [
    "wine_dataframe.head(3)"
   ]
  },
  {
   "cell_type": "markdown",
   "metadata": {},
   "source": [
    "### What are the common varieties?"
   ]
  },
  {
   "cell_type": "code",
   "execution_count": 8,
   "metadata": {},
   "outputs": [
    {
     "data": {
      "text/plain": [
       "Text(0.5, 1.0, 'Number of Wines from the Most Common Varieties')"
      ]
     },
     "execution_count": 8,
     "metadata": {},
     "output_type": "execute_result"
    },
    {
     "data": {
      "image/png": "[encoded data removed]",
      "text/plain": [
       "<Figure size 432x288 with 1 Axes>"
      ]
     },
     "metadata": {
      "needs_background": "light"
     },
     "output_type": "display_data"
    }
   ],
   "source": [
    "country_count = pd.DataFrame(wine_dataframe['variety'].value_counts().head(20))\n",
    "country_count = country_count.reset_index()\n",
    "country_count.columns = ['Variety', 'Count']\n",
    "country_count.sort_values('Count', inplace = True)\n",
    "plt.barh(y = country_count['Variety'], width = country_count['Count'], color = 'xkcd:purple')\n",
    "plt.xlabel('Number of Wines')\n",
    "plt.title(\"Number of Wines from the Most Common Varieties\")"
   ]
  },
  {
   "cell_type": "markdown",
   "metadata": {},
   "source": [
    "### What are the most common countries?"
   ]
  },
  {
   "cell_type": "code",
   "execution_count": 8,
   "metadata": {},
   "outputs": [
    {
     "data": {
      "text/plain": [
       "Text(0.5, 1.0, 'Number of Wines from the Top 10 Countries')"
      ]
     },
     "execution_count": 8,
     "metadata": {},
     "output_type": "execute_result"
    },
    {
     "data": {
      "image/png": "[encoded data removed]",
      "text/plain": [
       "<Figure size 432x288 with 1 Axes>"
      ]
     },
     "metadata": {
      "needs_background": "light"
     },
     "output_type": "display_data"
    }
   ],
   "source": [
    "country_count = pd.DataFrame(wine_dataframe['country'].value_counts().head(10))\n",
    "country_count = country_count.reset_index()\n",
    "country_count.columns = ['Country', 'Count']\n",
    "country_count.sort_values('Count', inplace = True)\n",
    "plt.barh(y = country_count['Country'], width = country_count['Count'], color = 'xkcd:purple')\n",
    "plt.xlabel('Number of Wines')\n",
    "plt.title(\"Number of Wines from the Top 10 Countries\")"
   ]
  },
  {
   "cell_type": "markdown",
   "metadata": {},
   "source": [
    "### How much do these wines cost?"
   ]
  },
  {
   "cell_type": "code",
   "execution_count": 10,
   "metadata": {
    "scrolled": true
   },
   "outputs": [
    {
     "data": {
      "image/png": "[encoded data removed]",
      "text/plain": [
       "<Figure size 432x288 with 1 Axes>"
      ]
     },
     "metadata": {
      "needs_background": "light"
     },
     "output_type": "display_data"
    }
   ],
   "source": [
    "\n",
    "plt.hist(wine_dataframe['price'], bins = 500, color = 'xkcd:purple', edgecolor='black' )\n",
    "plt.xlim(0,200)\n",
    "plt.xlabel('Price')\n",
    "plt.ylabel('Numer of Wines')\n",
    "plt.suptitle('Distribution of Wine Prices', fontsize = 15)\n",
    "plt.title(\"(With a $200 Limit)\")\n",
    "plt.show()"
   ]
  },
  {
   "cell_type": "markdown",
   "metadata": {},
   "source": [
    "When performing some basic EDA, I saw that variety and price might be good variables to use for similarity. Most of the wines fell in the price range of under 100. There can still be a lot of variance within that price range. Someone who just wants to casually drink a bottle of wine might be willing to 15 dollars but not anything more than 50 dollars. Varieties might also be a a good indicator of similarity as varieties are tied to different types of grapes and flavors. "
   ]
  },
  {
   "cell_type": "markdown",
   "metadata": {},
   "source": [
    "### Distribution of Points"
   ]
  },
  {
   "cell_type": "code",
   "execution_count": 11,
   "metadata": {},
   "outputs": [
    {
     "data": {
      "image/png": "[encoded data removed]",
      "text/plain": [
       "<Figure size 432x288 with 1 Axes>"
      ]
     },
     "metadata": {
      "needs_background": "light"
     },
     "output_type": "display_data"
    }
   ],
   "source": [
    "plt.hist(wine_dataframe['points'], bins = 10, color = 'xkcd:purple', edgecolor='black' )\n",
    "# plt.xlim(0,100)\n",
    "plt.xlabel('Points')\n",
    "plt.ylabel('Numer of Wines')\n",
    "plt.title('Distribution of Wine Points')\n",
    "plt.show()"
   ]
  },
  {
   "cell_type": "code",
   "execution_count": 11,
   "metadata": {},
   "outputs": [
    {
     "ename": "NameError",
     "evalue": "name 'wine_reviews_mincount' is not defined",
     "output_type": "error",
     "traceback": [
      "\u001b[0;31m---------------------------------------------------------------------------\u001b[0m",
      "\u001b[0;31mNameError\u001b[0m                                 Traceback (most recent call last)",
      "\u001b[0;32m<ipython-input-11-c9a36fb1dfaf>\u001b[0m in \u001b[0;36m<module>\u001b[0;34m\u001b[0m\n\u001b[1;32m      2\u001b[0m \u001b[0;34m\u001b[0m\u001b[0m\n\u001b[1;32m      3\u001b[0m \u001b[0mall_descriptors\u001b[0m \u001b[0;34m=\u001b[0m \u001b[0;34m[\u001b[0m\u001b[0;34m]\u001b[0m\u001b[0;34m\u001b[0m\u001b[0;34m\u001b[0m\u001b[0m\n\u001b[0;32m----> 4\u001b[0;31m \u001b[0;32mfor\u001b[0m \u001b[0mi\u001b[0m \u001b[0;32min\u001b[0m \u001b[0mwine_reviews_mincount\u001b[0m\u001b[0;34m[\u001b[0m\u001b[0;34m'normalized_descriptors'\u001b[0m\u001b[0;34m]\u001b[0m\u001b[0;34m:\u001b[0m\u001b[0;34m\u001b[0m\u001b[0;34m\u001b[0m\u001b[0m\n\u001b[0m\u001b[1;32m      5\u001b[0m     \u001b[0;32mfor\u001b[0m \u001b[0mk\u001b[0m \u001b[0;32min\u001b[0m \u001b[0mi\u001b[0m\u001b[0;34m:\u001b[0m\u001b[0;34m\u001b[0m\u001b[0;34m\u001b[0m\u001b[0m\n\u001b[1;32m      6\u001b[0m         \u001b[0mall_descriptors\u001b[0m\u001b[0;34m.\u001b[0m\u001b[0mappend\u001b[0m\u001b[0;34m(\u001b[0m\u001b[0mk\u001b[0m\u001b[0;34m)\u001b[0m\u001b[0;34m\u001b[0m\u001b[0;34m\u001b[0m\u001b[0m\n",
      "\u001b[0;31mNameError\u001b[0m: name 'wine_reviews_mincount' is not defined"
     ]
    }
   ],
   "source": [
    "\n",
    "# The following three cells need to be ran after wine_reviews_mincount is created\n",
    "\n",
    "all_descriptors = []\n",
    "for i in wine_reviews_mincount['normalized_descriptors']:\n",
    "    for k in i:\n",
    "        all_descriptors.append(k)\n",
    "all_desc_df = pd.DataFrame(all_descriptors, columns = ['description'])"
   ]
  },
  {
   "cell_type": "code",
   "execution_count": 12,
   "metadata": {},
   "outputs": [
    {
     "ename": "NameError",
     "evalue": "name 'all_desc_df' is not defined",
     "output_type": "error",
     "traceback": [
      "\u001b[0;31m---------------------------------------------------------------------------\u001b[0m",
      "\u001b[0;31mNameError\u001b[0m                                 Traceback (most recent call last)",
      "\u001b[0;32m<ipython-input-12-e52696ffe117>\u001b[0m in \u001b[0;36m<module>\u001b[0;34m\u001b[0m\n\u001b[0;32m----> 1\u001b[0;31m \u001b[0mdesc_count\u001b[0m \u001b[0;34m=\u001b[0m \u001b[0mpd\u001b[0m\u001b[0;34m.\u001b[0m\u001b[0mDataFrame\u001b[0m\u001b[0;34m(\u001b[0m\u001b[0mall_desc_df\u001b[0m\u001b[0;34m[\u001b[0m\u001b[0;34m'description'\u001b[0m\u001b[0;34m]\u001b[0m\u001b[0;34m.\u001b[0m\u001b[0mvalue_counts\u001b[0m\u001b[0;34m(\u001b[0m\u001b[0;34m)\u001b[0m\u001b[0;34m.\u001b[0m\u001b[0mhead\u001b[0m\u001b[0;34m(\u001b[0m\u001b[0;36m25\u001b[0m\u001b[0;34m)\u001b[0m\u001b[0;34m)\u001b[0m\u001b[0;34m\u001b[0m\u001b[0;34m\u001b[0m\u001b[0m\n\u001b[0m\u001b[1;32m      2\u001b[0m \u001b[0mdesc_count\u001b[0m \u001b[0;34m=\u001b[0m \u001b[0mdesc_count\u001b[0m\u001b[0;34m.\u001b[0m\u001b[0mreset_index\u001b[0m\u001b[0;34m(\u001b[0m\u001b[0;34m)\u001b[0m\u001b[0;34m\u001b[0m\u001b[0;34m\u001b[0m\u001b[0m\n\u001b[1;32m      3\u001b[0m \u001b[0mdesc_count\u001b[0m\u001b[0;34m.\u001b[0m\u001b[0mcolumns\u001b[0m \u001b[0;34m=\u001b[0m \u001b[0;34m[\u001b[0m\u001b[0;34m'Description'\u001b[0m\u001b[0;34m,\u001b[0m \u001b[0;34m'Count'\u001b[0m\u001b[0;34m]\u001b[0m\u001b[0;34m\u001b[0m\u001b[0;34m\u001b[0m\u001b[0m\n\u001b[1;32m      4\u001b[0m \u001b[0mdesc_count\u001b[0m\u001b[0;34m.\u001b[0m\u001b[0msort_values\u001b[0m\u001b[0;34m(\u001b[0m\u001b[0;34m'Count'\u001b[0m\u001b[0;34m,\u001b[0m \u001b[0minplace\u001b[0m \u001b[0;34m=\u001b[0m \u001b[0;32mTrue\u001b[0m\u001b[0;34m)\u001b[0m\u001b[0;34m\u001b[0m\u001b[0;34m\u001b[0m\u001b[0m\n\u001b[1;32m      5\u001b[0m \u001b[0mplt\u001b[0m\u001b[0;34m.\u001b[0m\u001b[0mbarh\u001b[0m\u001b[0;34m(\u001b[0m\u001b[0my\u001b[0m \u001b[0;34m=\u001b[0m \u001b[0mdesc_count\u001b[0m\u001b[0;34m[\u001b[0m\u001b[0;34m'Description'\u001b[0m\u001b[0;34m]\u001b[0m\u001b[0;34m,\u001b[0m \u001b[0mwidth\u001b[0m \u001b[0;34m=\u001b[0m \u001b[0mdesc_count\u001b[0m\u001b[0;34m[\u001b[0m\u001b[0;34m'Count'\u001b[0m\u001b[0;34m]\u001b[0m\u001b[0;34m,\u001b[0m \u001b[0mcolor\u001b[0m \u001b[0;34m=\u001b[0m \u001b[0;34m'xkcd:purple'\u001b[0m\u001b[0;34m)\u001b[0m\u001b[0;34m\u001b[0m\u001b[0;34m\u001b[0m\u001b[0m\n",
      "\u001b[0;31mNameError\u001b[0m: name 'all_desc_df' is not defined"
     ]
    }
   ],
   "source": [
    "desc_count = pd.DataFrame(all_desc_df['description'].value_counts().head(25))\n",
    "desc_count = desc_count.reset_index()\n",
    "desc_count.columns = ['Description', 'Count']\n",
    "desc_count.sort_values('Count', inplace = True)\n",
    "plt.barh(y = desc_count['Description'], width = desc_count['Count'], color = 'xkcd:purple')\n",
    "plt.xlabel('Number of Wines')\n",
    "plt.title(\"25 Most Common Descriptors\")"
   ]
  },
  {
   "cell_type": "code",
   "execution_count": 13,
   "metadata": {},
   "outputs": [],
   "source": [
    "unique_descriptors = []\n",
    "for i in all_descriptors:\n",
    "    if i not in unique_descriptors:\n",
    "        unique_descriptors.append(i)\n",
    "    else: \n",
    "        continue"
   ]
  },
  {
   "cell_type": "code",
   "execution_count": 14,
   "metadata": {},
   "outputs": [
    {
     "name": "stdout",
     "output_type": "stream",
     "text": [
      "There are 0 unique descriptors\n"
     ]
    }
   ],
   "source": [
    "print('There are',len(unique_descriptors), 'unique descriptors')"
   ]
  },
  {
   "cell_type": "markdown",
   "metadata": {},
   "source": [
    "## Prepare Data"
   ]
  },
  {
   "cell_type": "code",
   "execution_count": 15,
   "metadata": {
    "scrolled": true
   },
   "outputs": [],
   "source": [
    "wine_dataframe.drop_duplicates(subset=['title'], inplace=True)"
   ]
  },
  {
   "cell_type": "code",
   "execution_count": 19,
   "metadata": {},
   "outputs": [],
   "source": [
    "reviews_list = list(wine_dataframe['description'])\n",
    "reviews_list = [str(r) for r in reviews_list]\n",
    "full_corpus = ' '.join(reviews_list)\n",
    "sentences_tokenized = sent_tokenize(full_corpus)"
   ]
  },
  {
   "cell_type": "code",
   "execution_count": 20,
   "metadata": {},
   "outputs": [],
   "source": [
    "#sentences_tokenized"
   ]
  },
  {
   "cell_type": "code",
   "execution_count": 23,
   "metadata": {},
   "outputs": [],
   "source": [
    "stop_words = set(stopwords.words('english')) \n",
    "\n",
    "punctuation_table = str.maketrans({key: None for key in string.punctuation})\n",
    "sno = SnowballStemmer('english')\n",
    "\n",
    "def normalize_text(raw_text):\n",
    "    try:\n",
    "        word_list = word_tokenize(raw_text)\n",
    "        normalized_sentence = []\n",
    "        for w in word_list:\n",
    "            try:\n",
    "                w = str(w)\n",
    "                lower_case_word = str.lower(w)\n",
    "                stemmed_word = sno.stem(lower_case_word)\n",
    "                no_punctuation = stemmed_word.translate(punctuation_table)\n",
    "                if len(no_punctuation) > 1 and no_punctuation not in stop_words:\n",
    "                    normalized_sentence.append(no_punctuation)\n",
    "            except:\n",
    "                continue\n",
    "        return normalized_sentence\n",
    "    except:\n",
    "        return ''\n",
    "\n",
    "# sentence_sample = sentences_tokenized[:10]\n",
    "normalized_sentences = []\n",
    "for s in sentences_tokenized:\n",
    "    normalized_text = normalize_text(s)\n",
    "    normalized_sentences.append(normalized_text)"
   ]
  },
  {
   "cell_type": "code",
   "execution_count": 24,
   "metadata": {},
   "outputs": [],
   "source": [
    "phrases = Phrases(normalized_sentences)\n",
    "phrases = Phrases(phrases[normalized_sentences])\n",
    "\n",
    "ngrams = Phraser(phrases)\n",
    "\n",
    "phrased_sentences = []\n",
    "for sent in normalized_sentences:\n",
    "    phrased_sentence = ngrams[sent]\n",
    "    phrased_sentences.append(phrased_sentence)\n",
    "\n",
    "full_list_words = [item for sublist in phrased_sentences for item in sublist]"
   ]
  },
  {
   "cell_type": "code",
   "execution_count": 34,
   "metadata": {},
   "outputs": [],
   "source": [
    "word_counts = Counter(full_list_words)\n",
    "sorted_counts = OrderedDict(word_counts.most_common(5000))\n",
    "counter_df = pd.DataFrame.from_dict(sorted_counts, orient='index')\n",
    "# top_5000_words = counter_df.head(5000)"
   ]
  },
  {
   "cell_type": "code",
   "execution_count": 35,
   "metadata": {
    "scrolled": true
   },
   "outputs": [],
   "source": [
    "descriptor_mapping = pd.read_csv('C:/Users/Calebjc/Desktop/DSC630 Data/descriptor_mapping.csv').set_index('raw descriptor')\n",
    "# descriptor_mapping"
   ]
  },
  {
   "cell_type": "code",
   "execution_count": 36,
   "metadata": {},
   "outputs": [],
   "source": [
    "def return_mapped_descriptor(word):\n",
    "    if word in list(descriptor_mapping.index):\n",
    "        normalized_word = descriptor_mapping['level_3'][word]\n",
    "        return normalized_word\n",
    "    else:\n",
    "        return word\n",
    "\n",
    "normalized_sentences = []\n",
    "for sent in phrased_sentences:\n",
    "    normalized_sentence = []\n",
    "    for word in sent:\n",
    "        normalized_word = return_mapped_descriptor(word)\n",
    "        normalized_sentence.append(str(normalized_word))\n",
    "    normalized_sentences.append(normalized_sentence)"
   ]
  },
  {
   "cell_type": "code",
   "execution_count": 37,
   "metadata": {
    "scrolled": true
   },
   "outputs": [],
   "source": [
    "wine_word2vec_model = Word2Vec(normalized_sentences, size=300, min_count=5, iter=15)"
   ]
  },
  {
   "cell_type": "code",
   "execution_count": 38,
   "metadata": {
    "scrolled": true
   },
   "outputs": [],
   "source": [
    "wine_reviews = list(wine_dataframe['description'])"
   ]
  },
  {
   "cell_type": "code",
   "execution_count": 39,
   "metadata": {},
   "outputs": [],
   "source": [
    "def return_descriptor_from_mapping(word):\n",
    "    if word in list(descriptor_mapping.index):\n",
    "        descriptor_to_return = descriptor_mapping['level_3'][word]\n",
    "        return descriptor_to_return"
   ]
  },
  {
   "cell_type": "code",
   "execution_count": 40,
   "metadata": {},
   "outputs": [],
   "source": [
    "descriptorized_reviews = []\n",
    "for review in wine_reviews:\n",
    "    normalized_review = normalize_text(review)\n",
    "    phrased_review = ngrams[normalized_review]\n",
    "    descriptors_only = [return_descriptor_from_mapping(word) for word in phrased_review]\n",
    "    no_nones = [str(d) for d in descriptors_only if d is not None]\n",
    "    descriptorized_review = ' '.join(no_nones)\n",
    "    descriptorized_reviews.append(descriptorized_review)"
   ]
  },
  {
   "cell_type": "code",
   "execution_count": 41,
   "metadata": {
    "scrolled": true
   },
   "outputs": [],
   "source": [
    "vectorizer = TfidfVectorizer()\n",
    "X = vectorizer.fit(descriptorized_reviews)\n",
    "\n",
    "dict_of_tfidf_weightings = dict(zip(X.get_feature_names(), X.idf_))\n",
    "\n",
    "wine_review_vectors = []\n",
    "for d in descriptorized_reviews:\n",
    "    descriptor_count = 0\n",
    "    weighted_review_terms = []\n",
    "    terms = d.split(' ')\n",
    "    for term in terms:\n",
    "        if term in dict_of_tfidf_weightings.keys():\n",
    "            tfidf_weighting = dict_of_tfidf_weightings[term]\n",
    "            word_vector = wine_word2vec_model.wv.get_vector(term).reshape(1, 300)\n",
    "            weighted_word_vector = tfidf_weighting * word_vector\n",
    "            weighted_review_terms.append(weighted_word_vector)\n",
    "            descriptor_count += 1\n",
    "        else:\n",
    "            continue\n",
    "    try:\n",
    "        review_vector = sum(weighted_review_terms)/len(weighted_review_terms)\n",
    "    except:\n",
    "        review_vector = []\n",
    "    vector_and_count = [terms, review_vector, descriptor_count]\n",
    "    wine_review_vectors.append(vector_and_count)\n",
    "\n",
    "wine_dataframe['normalized_descriptors'] = list(map(itemgetter(0), wine_review_vectors))\n",
    "wine_dataframe['review_vector'] = list(map(itemgetter(1), wine_review_vectors))\n",
    "wine_dataframe['descriptor_count'] = list(map(itemgetter(2), wine_review_vectors))\n",
    "\n",
    "wine_dataframe.reset_index(inplace=True)\n",
    "#wine_dataframe.head()"
   ]
  },
  {
   "cell_type": "code",
   "execution_count": 42,
   "metadata": {},
   "outputs": [],
   "source": [
    "### This cell below is important. We need our user input to have atleast 5 of the descriptors \n",
    "### (they need to be the descriptors from the descriptor mapping)\n",
    "\n",
    "# first, let's eliminate any review with fewer than 5 descriptors from our dataset\n",
    "wine_reviews_mincount = wine_dataframe.loc[wine_dataframe['descriptor_count'] > 5]\n",
    "#wine_reviews_mincount.reset_index(inplace=True)\n",
    "\n",
    "variety_mapping = {'Shiraz': 'Syrah', 'Pinot Gris': 'Pinot Grigio', 'Pinot Grigio/Gris': 'Pinot Grigio', \n",
    "                   'Garnacha, Grenache': 'Grenache', 'Garnacha': 'Grenache', 'CarmenÃ¨re': 'Carmenere',\n",
    "                    'GrÃ¼ner Veltliner': 'Gruner Veltliner', 'TorrontÃ©s': 'Torrontes', \n",
    "                   'RhÃ´ne-style Red Blend': 'Rhone-style Red Blend', 'AlbariÃ±o': 'Albarino',\n",
    "                  'GewÃ¼rztraminer': 'Gewurztraminer', 'RhÃ´ne-style White Blend': 'Rhone-style White Blend'}\n",
    "\n",
    "def consolidate_varieties(variety_name):\n",
    "    if variety_name in variety_mapping:\n",
    "        return variety_mapping[variety_name]\n",
    "    else:\n",
    "        return variety_name\n",
    "\n",
    "wine_reviews_clean = wine_reviews_mincount.copy()\n",
    "wine_reviews_clean['variety'] = wine_reviews_clean['variety'].apply(consolidate_varieties)"
   ]
  },
  {
   "cell_type": "markdown",
   "metadata": {},
   "source": [
    "# ------------------------------------------------------------------------------------------------------------"
   ]
  },
  {
   "cell_type": "markdown",
   "metadata": {},
   "source": [
    "## Recommendation Based on Price, Points"
   ]
  },
  {
   "cell_type": "markdown",
   "metadata": {},
   "source": [
    "# ------------------------------------------------------------------------------------------------------------"
   ]
  },
  {
   "cell_type": "code",
   "execution_count": 210,
   "metadata": {},
   "outputs": [
    {
     "name": "stdout",
     "output_type": "stream",
     "text": [
      "Recmmendation for Helix by Reininger 2005 Stillwater Creek Vineyard Merlot (Columbia Valley (WA)):\n",
      "\n",
      "1: Red Rock 2014 Reserve Merlot (California) with distance: 0.0\n",
      "2: Occasio 2011 Thatcher Bay Vineyard Merlot (Livermore Valley) with distance: 0.0\n",
      "3: Kestrel 2012 Falcon Series Merlot (Yakima Valley) with distance: 0.0\n"
     ]
    }
   ],
   "source": [
    "\n",
    "wine1 = wine_reviews_mincount\n",
    "wine1 = wine1.dropna(axis=0)\n",
    "wine1 = wine1.drop_duplicates(['title'])\n",
    "#wine1 = wine1[wine1['points'] >85]\n",
    "wine_pivot = wine1.pivot(index= 'title',columns='variety',values=['price']).fillna(0) # this line is supposed to have province instead of variety\n",
    "wine_pivot_matrix = csr_matrix(wine_pivot)\n",
    "\n",
    "knn = NearestNeighbors(n_neighbors=10,algorithm= 'brute', metric= 'cosine')\n",
    "model_knn = knn.fit(wine_pivot_matrix)\n",
    "\n",
    "query_index = np.random.choice(wine_pivot.shape[0])\n",
    "distance, indice = model_knn.kneighbors(wine_pivot.iloc[query_index,:].values.reshape(1,-1),n_neighbors=4)\n",
    "knn_list = [wine_pivot.index[query_index]]\n",
    "for i in range(0, len(distance.flatten())):\n",
    "    if  i == 0:\n",
    "        print('Recmmendation for {0}:\\n'.format(wine_pivot.index[query_index]))\n",
    "    else:\n",
    "        print('{0}: {1} with distance: {2}'.format(i,wine_pivot.index[indice.flatten()[i]],distance.flatten()[i]))\n",
    "        knn_list.append(wine_pivot.index[indice.flatten()[i]])"
   ]
  },
  {
   "cell_type": "code",
   "execution_count": 267,
   "metadata": {},
   "outputs": [],
   "source": [
    "# The above generates a random wine. Here is the saved wine that was used for the write up\n",
    "\n",
    "saved_wine = ['Helix by Reininger 2005 Stillwater Creek Vineyard Merlot (Columbia Valley (WA))',\n",
    "        'Red Rock 2014 Reserve Merlot (California)',\n",
    "       'Occasio 2011 Thatcher Bay Vineyard Merlot (Livermore Valley)',\n",
    "       'Kestrel 2012 Falcon Series Merlot (Yakima Valley)']"
   ]
  },
  {
   "cell_type": "code",
   "execution_count": 268,
   "metadata": {},
   "outputs": [
    {
     "data": {
      "text/plain": [
       "'Helix by Reininger 2005 Stillwater Creek Vineyard Merlot (Columbia Valley (WA))'"
      ]
     },
     "execution_count": 268,
     "metadata": {},
     "output_type": "execute_result"
    }
   ],
   "source": [
    "saved_wine[0]"
   ]
  },
  {
   "cell_type": "code",
   "execution_count": 269,
   "metadata": {},
   "outputs": [],
   "source": [
    "knn_df_1 = wine_reviews_mincount[wine_reviews_mincount['title'] == saved_wine[0]]\n",
    "knn_df_2 = wine_reviews_mincount[wine_reviews_mincount['title'] == saved_wine[1]]\n",
    "knn_df_3 = wine_reviews_mincount[wine_reviews_mincount['title'] == saved_wine[2]]\n",
    "knn_df_4 = wine_reviews_mincount[wine_reviews_mincount['title'] == saved_wine[3]]\n",
    "knn_df_final = knn_df_1.append([knn_df_2, knn_df_3, knn_df_4])\n",
    "knn_df_final = knn_df_final.reset_index()\n",
    "\n",
    "#knn_df_final[['title', 'variety','normalized_descriptors','country', 'price', 'region_1']]"
   ]
  },
  {
   "cell_type": "code",
   "execution_count": 270,
   "metadata": {},
   "outputs": [
    {
     "name": "stdout",
     "output_type": "stream",
     "text": [
      "0.2874390482902527\n",
      "0.38552325963974\n",
      "0.3663318157196045\n"
     ]
    }
   ],
   "source": [
    "cos1 = cosine(knn_df_final['review_vector'][0], knn_df_final['review_vector'][1])\n",
    "cos2 = cosine(knn_df_final['review_vector'][0], knn_df_final['review_vector'][2])\n",
    "cos3 = cosine(knn_df_final['review_vector'][0], knn_df_final['review_vector'][3])\n",
    "\n",
    "print(cos1)\n",
    "print(cos2)\n",
    "print(cos3)"
   ]
  },
  {
   "cell_type": "code",
   "execution_count": 271,
   "metadata": {
    "scrolled": true
   },
   "outputs": [
    {
     "data": {
      "text/html": [
       "<div>\n",
       "<style scoped>\n",
       "    .dataframe tbody tr th:only-of-type {\n",
       "        vertical-align: middle;\n",
       "    }\n",
       "\n",
       "    .dataframe tbody tr th {\n",
       "        vertical-align: top;\n",
       "    }\n",
       "\n",
       "    .dataframe thead th {\n",
       "        text-align: right;\n",
       "    }\n",
       "</style>\n",
       "<table border=\"1\" class=\"dataframe\">\n",
       "  <thead>\n",
       "    <tr style=\"text-align: right;\">\n",
       "      <th></th>\n",
       "      <th>title</th>\n",
       "      <th>variety</th>\n",
       "      <th>normalized_descriptors</th>\n",
       "      <th>country</th>\n",
       "      <th>price</th>\n",
       "      <th>region_1</th>\n",
       "    </tr>\n",
       "  </thead>\n",
       "  <tbody>\n",
       "    <tr>\n",
       "      <th>0</th>\n",
       "      <td>Helix by Reininger 2005 Stillwater Creek Viney...</td>\n",
       "      <td>Merlot</td>\n",
       "      <td>[fruit, concentrated, clean, fruit, polished, ...</td>\n",
       "      <td>US</td>\n",
       "      <td>30.0</td>\n",
       "      <td>Columbia Valley (WA)</td>\n",
       "    </tr>\n",
       "    <tr>\n",
       "      <th>1</th>\n",
       "      <td>Krutz 2008 Sleepy Hollow Vineyard Chardonnay (...</td>\n",
       "      <td>Chardonnay</td>\n",
       "      <td>[powerful, fruit, pineapple, kumquat, buttery_...</td>\n",
       "      <td>US</td>\n",
       "      <td>38.0</td>\n",
       "      <td>Santa Lucia Highlands</td>\n",
       "    </tr>\n",
       "    <tr>\n",
       "      <th>2</th>\n",
       "      <td>Caves Aliança 2007 Quinta das Baceladas Red (B...</td>\n",
       "      <td>Portuguese Red</td>\n",
       "      <td>[earth, full_bodied, tannin, weight, rich, min...</td>\n",
       "      <td>Portugal</td>\n",
       "      <td>29.0</td>\n",
       "      <td>NaN</td>\n",
       "    </tr>\n",
       "    <tr>\n",
       "      <th>3</th>\n",
       "      <td>Maximin Grünhäuser 2015 Herrenberg Auslese 31 ...</td>\n",
       "      <td>Riesling</td>\n",
       "      <td>[heady, tropical_fruit, pineapple, melon, mang...</td>\n",
       "      <td>Germany</td>\n",
       "      <td>114.0</td>\n",
       "      <td>NaN</td>\n",
       "    </tr>\n",
       "  </tbody>\n",
       "</table>\n",
       "</div>"
      ],
      "text/plain": [
       "                                               title         variety  \\\n",
       "0  Helix by Reininger 2005 Stillwater Creek Viney...          Merlot   \n",
       "1  Krutz 2008 Sleepy Hollow Vineyard Chardonnay (...      Chardonnay   \n",
       "2  Caves Aliança 2007 Quinta das Baceladas Red (B...  Portuguese Red   \n",
       "3  Maximin Grünhäuser 2015 Herrenberg Auslese 31 ...        Riesling   \n",
       "\n",
       "                              normalized_descriptors   country  price  \\\n",
       "0  [fruit, concentrated, clean, fruit, polished, ...        US   30.0   \n",
       "1  [powerful, fruit, pineapple, kumquat, buttery_...        US   38.0   \n",
       "2  [earth, full_bodied, tannin, weight, rich, min...  Portugal   29.0   \n",
       "3  [heady, tropical_fruit, pineapple, melon, mang...   Germany  114.0   \n",
       "\n",
       "                region_1  \n",
       "0   Columbia Valley (WA)  \n",
       "1  Santa Lucia Highlands  \n",
       "2                    NaN  \n",
       "3                    NaN  "
      ]
     },
     "execution_count": 271,
     "metadata": {},
     "output_type": "execute_result"
    }
   ],
   "source": [
    "knn_df_1 = wine_reviews_mincount[wine_reviews_mincount['title'] == knn_list[0]]\n",
    "knn_df_2 = wine_reviews_mincount[wine_reviews_mincount['title'] == knn_list[1]]\n",
    "knn_df_3 = wine_reviews_mincount[wine_reviews_mincount['title'] == knn_list[2]]\n",
    "knn_df_4 = wine_reviews_mincount[wine_reviews_mincount['title'] == knn_list[3]]\n",
    "knn_df_final = knn_df_1.append([knn_df_2, knn_df_3, knn_df_4])\n",
    "knn_df_final = knn_df_final.reset_index()\n",
    "\n",
    "knn_df_final[['title', 'variety','normalized_descriptors','country', 'price', 'region_1']]"
   ]
  },
  {
   "cell_type": "markdown",
   "metadata": {},
   "source": [
    "# ------------------------------------------------------------------------------------------------------------"
   ]
  },
  {
   "cell_type": "markdown",
   "metadata": {},
   "source": [
    "## Recommendation Based on Wine Desciption"
   ]
  },
  {
   "cell_type": "markdown",
   "metadata": {},
   "source": [
    "# ------------------------------------------------------------------------------------------------------------"
   ]
  },
  {
   "cell_type": "code",
   "execution_count": 44,
   "metadata": {},
   "outputs": [],
   "source": [
    "input_vectors = list(wine_reviews_mincount['review_vector'])\n",
    "input_vectors_listed = [a.tolist() for a in input_vectors]\n",
    "input_vectors_listed = [a[0] for a in input_vectors_listed]"
   ]
  },
  {
   "cell_type": "code",
   "execution_count": 45,
   "metadata": {},
   "outputs": [],
   "source": [
    "knn = NearestNeighbors(n_neighbors=10, algorithm= 'brute', metric='cosine')\n",
    "model_knn = knn.fit(input_vectors_listed)"
   ]
  },
  {
   "cell_type": "code",
   "execution_count": 55,
   "metadata": {},
   "outputs": [
    {
     "name": "stdout",
     "output_type": "stream",
     "text": [
      "Wine to match: Helix by Reininger 2005 Stillwater Creek Vineyard Merlot (Columbia Valley (WA))\n",
      "The original wine has the following descriptors: ['fruit', 'concentrated', 'clean', 'fruit', 'polished', 'bright', 'light_bodied', 'peppery']\n",
      "_________\n",
      "Suggestion 1 : Caves Aliança 2007 Quinta das Baceladas Red (Bairrada) with a cosine distance of 0.116\n",
      "This wine has the following descriptors: ['earth', 'full_bodied', 'tannin', 'weight', 'rich', 'mint', 'new_wood']\n",
      "\n",
      "Suggestion 2 : Krutz 2008 Sleepy Hollow Vineyard Chardonnay (Santa Lucia Highlands) with a cosine distance of 0.122\n",
      "This wine has the following descriptors: ['powerful', 'fruit', 'pineapple', 'kumquat', 'buttery_toast', 'vanilla_cream', 'cinnamon', 'spice', 'minerality', 'nut', 'dry', 'fruit']\n",
      "\n",
      "Suggestion 3 : La Voix 2014 She's Crafty Rosé of Pinot Noir (Sta. Rita Hills) with a cosine distance of 0.127\n",
      "This wine has the following descriptors: ['cherry', 'sage', 'clove', 'iron', 'graphite', 'herb', 'spice', 'pomegranate', 'fruit']\n",
      "\n"
     ]
    }
   ],
   "source": [
    "\n",
    "name_test = 'Helix by Reininger 2005 Stillwater Creek Vineyard Merlot (Columbia Valley (WA))'\n",
    "\n",
    "\n",
    "wine_test_vector = wine_reviews_mincount.loc[wine_reviews_mincount['title'] == name_test]['review_vector'].tolist()[0]\n",
    "distance, indice = model_knn.kneighbors(wine_test_vector, n_neighbors=4)\n",
    "distance_list = distance[0].tolist()[1:]\n",
    "indice_list = indice[0].tolist()[1:]\n",
    "\n",
    "main_wine = wine_reviews_mincount.loc[wine_reviews_mincount['title'] == name_test]\n",
    "\n",
    "print('Wine to match:', name_test)\n",
    "print('The original wine has the following descriptors:', list(main_wine['normalized_descriptors'])[0])\n",
    "print('_________')\n",
    "\n",
    "\n",
    "n = 1\n",
    "knn_list = [name_test]\n",
    "cosine_distances = []\n",
    "for d, i in zip(distance_list, indice_list):\n",
    "    wine_name = wine_reviews_mincount['title'][i]\n",
    "    wine_descriptors = wine_reviews_mincount['normalized_descriptors'][i]\n",
    "    print('Suggestion', str(n), ':', wine_name, 'with a cosine distance of', \"{:.3f}\".format(d))\n",
    "    print('This wine has the following descriptors:', wine_descriptors)\n",
    "    print('')\n",
    "    n+=1\n",
    "    knn_list.append(wine_name)\n",
    "    cosine_distances.append(d)\n",
    "    "
   ]
  },
  {
   "cell_type": "code",
   "execution_count": 48,
   "metadata": {},
   "outputs": [],
   "source": [
    "knn_df_1 = wine_reviews_mincount[wine_reviews_mincount['title'] == knn_list[0]]\n",
    "knn_df_2 = wine_reviews_mincount[wine_reviews_mincount['title'] == knn_list[1]]\n",
    "knn_df_3 = wine_reviews_mincount[wine_reviews_mincount['title'] == knn_list[2]]\n",
    "knn_df_4 = wine_reviews_mincount[wine_reviews_mincount['title'] == knn_list[3]]\n",
    "knn_df_final = knn_df_1.append([knn_df_2, knn_df_3, knn_df_4])"
   ]
  },
  {
   "cell_type": "code",
   "execution_count": 53,
   "metadata": {},
   "outputs": [],
   "source": [
    "knn_df_final = knn_df_final.reset_index()"
   ]
  },
  {
   "cell_type": "code",
   "execution_count": 56,
   "metadata": {},
   "outputs": [
    {
     "data": {
      "text/plain": [
       "[0.11563685923119982, 0.12221678367858713, 0.12702803671190033]"
      ]
     },
     "execution_count": 56,
     "metadata": {},
     "output_type": "execute_result"
    }
   ],
   "source": [
    "cosine_distances"
   ]
  },
  {
   "cell_type": "code",
   "execution_count": 61,
   "metadata": {},
   "outputs": [
    {
     "name": "stdout",
     "output_type": "stream",
     "text": [
      "['fruit', 'concentrated', 'clean', 'fruit', 'polished', 'bright', 'light_bodied', 'peppery']\n"
     ]
    }
   ],
   "source": [
    "for i in knn_df_1['normalized_descriptors']:\n",
    "    print(i)"
   ]
  },
  {
   "cell_type": "code",
   "execution_count": null,
   "metadata": {},
   "outputs": [],
   "source": []
  }
 ],
 "metadata": {
  "kernelspec": {
   "display_name": "Python 3",
   "language": "python",
   "name": "python3"
  },
  "language_info": {
   "codemirror_mode": {
    "name": "ipython",
    "version": 3
   },
   "file_extension": ".py",
   "mimetype": "text/x-python",
   "name": "python",
   "nbconvert_exporter": "python",
   "pygments_lexer": "ipython3",
   "version": "3.8.5"
  }
 },
 "nbformat": 4,
 "nbformat_minor": 4
}
